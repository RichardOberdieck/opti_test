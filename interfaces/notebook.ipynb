{
 "cells": [
  {
   "cell_type": "markdown",
   "id": "440946d4-ea4c-41fc-a88b-fc360fa4b0e9",
   "metadata": {},
   "source": [
    "# Array cable problem\n",
    "\n",
    "This is how a lot of optimization code starts. A \"simple\" Jupyter notebook which works. And then we should somehow make this something usable. At least that's my experience. So here we go:\n",
    "\n",
    "## The problem\n",
    "\n",
    "In offshore wind, turbines are placed on foundations in the water. They generate electricity, and this electricity has to be brought to shore so we can watch cat videos. The first step is to collect the power from all the turbines in so-called offshore substations (OSS), from where large export cables bring the power to shore. The problem is how to design the network of these \"array cables\" optimally, i.e. at minimal cost.\n",
    "\n",
    "## Setup"
   ]
  },
  {
   "cell_type": "code",
   "execution_count": 10,
   "id": "66a2a4f6-ca85-4afe-bc2d-b4db10e7c2b0",
   "metadata": {},
   "outputs": [],
   "source": [
    "import json\n",
    "import pyoptinterface as poi\n",
    "from pyoptinterface import highs, VariableDomain\n",
    "from pydantic import BaseModel\n",
    "import numpy as np"
   ]
  },
  {
   "cell_type": "markdown",
   "id": "6ebb5c06-150a-4a77-b12a-2e566589eb33",
   "metadata": {},
   "source": [
    "We also need some basic data structures. I could do without but the code would be way too messy. If you have questions, ask:"
   ]
  },
  {
   "cell_type": "code",
   "execution_count": 2,
   "id": "d1c7b628-48c4-4462-87e6-e8a01f2e6550",
   "metadata": {},
   "outputs": [],
   "source": [
    "class Unit(BaseModel):\n",
    "    name: str\n",
    "    x: float\n",
    "    y: float\n",
    "\n",
    "    def __hash__(self):\n",
    "        return 100 * hash(self.x) - hash(self.y)\n",
    "\n",
    "    def is_turbine(self):\n",
    "        return self.name[:3] == \"WTG\"\n",
    "\n",
    "class CableType(BaseModel):\n",
    "    name: str\n",
    "    max_mw_on_cable: float\n",
    "    cost_per_km: float\n",
    "\n",
    "    def __hash__(self):\n",
    "        return hash(self.name) + hash(self.max_mw_on_cable) + 5 * hash(self.cost_per_km)"
   ]
  },
  {
   "cell_type": "markdown",
   "id": "781fc47a-7e0a-48d9-a872-72ca1c12de13",
   "metadata": {},
   "source": [
    "## Getting some data\n",
    "\n",
    "We are \"lucky\", we have some test data:"
   ]
  },
  {
   "cell_type": "code",
   "execution_count": 3,
   "id": "1048599e-8015-46cd-828e-6be4e1de07f4",
   "metadata": {},
   "outputs": [],
   "source": [
    "with open(\"../tests/test_cases/small.json\", \"r\") as file:\n",
    "    data = json.load(file)\n",
    "\n",
    "units = [Unit(**u) for u in data[\"units\"]]\n",
    "cable_types = [CableType(**c) for c in data[\"cable_types\"]]"
   ]
  },
  {
   "cell_type": "markdown",
   "id": "b1b42100-596a-4763-935f-15cad09b3d92",
   "metadata": {},
   "source": [
    "Now that we have some data, let's build a model!\n",
    "\n",
    "## Model building\n",
    "### Objective function\n",
    "\n",
    "$$\n",
    "\\text{minimize} \\quad \\sum_{o,d,c} c_cl_{o,d}x_{o,d}^c\n",
    "$$\n",
    "where:\n",
    "- $c_c$ is the cost in \\\\$/km to use cable type $c$\n",
    "- $l_{o,d}$ is the length of cable to be built between an origin $o$ and a destination $d$, in km.\n",
    "- $x_{o,d}^c \\in \\{0,1\\}$ is a binary variable indicating whether a connection between $o$ and $d$ is built using cable type $c$\n",
    "\n",
    "Note that we have two type of units: we have turbines, and substations. There will never be a connection **from** a substation to a turbine."
   ]
  },
  {
   "cell_type": "code",
   "execution_count": 4,
   "id": "04a32609-d7a2-49a9-8c10-5354f1e0e18d",
   "metadata": {},
   "outputs": [
    {
     "ename": "SyntaxError",
     "evalue": "unterminated f-string literal (detected at line 2) (4267399182.py, line 2)",
     "output_type": "error",
     "traceback": [
      "  \u001b[36mCell\u001b[39m\u001b[36m \u001b[39m\u001b[32mIn[4]\u001b[39m\u001b[32m, line 2\u001b[39m\n\u001b[31m    \u001b[39m\u001b[31mx = {(o,d,c): model.add_variable(domain=VariableDomain.Binary, name=f\"install_{c} for o in ...\u001b[39m\n                                                                        ^\n\u001b[31mSyntaxError\u001b[39m\u001b[31m:\u001b[39m unterminated f-string literal (detected at line 2)\n"
     ]
    }
   ],
   "source": [
    "model = highs.Model()\n",
    "x = {(o,d,c): model.add_variable(domain=VariableDomain.Binary, name=f\"install_{c} for o in ..."
   ]
  },
  {
   "cell_type": "markdown",
   "id": "88c9966e-1205-4ac1-8e7a-2d6056288e4f",
   "metadata": {},
   "source": [
    "Yeah, this is horrible to write. So let's not do that. Instead, we add a couple of extra data structures:"
   ]
  },
  {
   "cell_type": "code",
   "execution_count": 5,
   "id": "7cc18638-c6cd-411f-a87e-b060a86d62a4",
   "metadata": {},
   "outputs": [],
   "source": [
    "class Link(BaseModel):\n",
    "    origin: Unit\n",
    "    destination: Unit\n",
    "\n",
    "    def __hash__(self):\n",
    "        return hash(self.origin) + 5 * hash(self.destination)\n",
    "\n",
    "    def get_distance_in_km(self):\n",
    "        return np.sqrt((self.origin.x - self.destination.x) ** 2 + (self.origin.y - self.destination.y) ** 2) / 1000\n",
    "\n",
    "class Connection(BaseModel):\n",
    "    link: Link\n",
    "    cable_type: CableType\n",
    "\n",
    "    def __hash__(self):\n",
    "        return hash(self.link) + 15 * hash(self.cable_type)\n",
    "\n",
    "    def get_cost(self):\n",
    "        return self.link.get_distance_in_km() * self.cable_type.cost_per_km"
   ]
  },
  {
   "cell_type": "markdown",
   "id": "b1edb511-32e8-440d-bf3f-2846342454bc",
   "metadata": {},
   "source": [
    "Let's try again:"
   ]
  },
  {
   "cell_type": "code",
   "execution_count": 6,
   "id": "6a136892-ea8f-4ece-a658-64b6913a2baa",
   "metadata": {},
   "outputs": [],
   "source": [
    "links = [Link(origin=o, destination=d) for o in units for d in units if o != d and o.is_turbine()]\n",
    "connections = [Connection(link=link, cable_type=c) for link in links for c in cable_types]"
   ]
  },
  {
   "cell_type": "code",
   "execution_count": 7,
   "id": "a4a1ed3e-efab-419c-a170-99d87fedf17f",
   "metadata": {},
   "outputs": [
    {
     "name": "stdout",
     "output_type": "stream",
     "text": [
      "Running HiGHS 1.9.0 (git hash: 66f735e): Copyright (c) 2024 HiGHS under MIT licence terms\n"
     ]
    }
   ],
   "source": [
    "model = highs.Model()\n",
    "x = {c: model.add_variable(domain=VariableDomain.Binary, name=f\"x_{c}\") for c in connections}"
   ]
  },
  {
   "cell_type": "code",
   "execution_count": 11,
   "id": "a401957d-c3e8-4a72-a767-a972e8183604",
   "metadata": {},
   "outputs": [
    {
     "name": "stdout",
     "output_type": "stream",
     "text": [
      "Hessian has dimension 60 but no nonzeros, so is ignored\n"
     ]
    }
   ],
   "source": [
    "model.set_objective(sum(c.get_cost() * x[c] for c in x), poi.ObjectiveSense.Minimize)"
   ]
  },
  {
   "cell_type": "markdown",
   "id": "9ca80814-a434-4592-84bb-0203b697651b",
   "metadata": {},
   "source": [
    "### Constraints\n",
    "\n",
    "#### Flow balance\n",
    "\n",
    "$$\n",
    "\\sum_{o} f_{o,d} + P = \\sum_{d'} f_{d,d'} \\quad \\quad \\forall d \\in T\n",
    "$$\n",
    "\n",
    "where:\n",
    "- $f_{o,d}$ denotes the flow from unit $o$ to unit $d$\n",
    "- $T$ is the set of all turbines"
   ]
  },
  {
   "cell_type": "code",
   "execution_count": 17,
   "id": "b3d50c36-bae3-4109-aaa3-23488ecded1e",
   "metadata": {},
   "outputs": [],
   "source": [
    "f = {f: model.add_variable(lb=0, domain=VariableDomain.Continuous, name=f\"f_{f}\") for f in links}\n",
    "turbines = [u for u in units if u.is_turbine()]\n",
    "turbine_power = 8\n",
    "for u in turbines:\n",
    "    model.add_linear_constraint(\n",
    "        sum(f[l] for l in links if l.destination == u)\n",
    "        - sum(f[l] for l in links if l.origin == u),\n",
    "        poi.Eq,\n",
    "        turbine_power)"
   ]
  },
  {
   "cell_type": "markdown",
   "id": "192387a5-df69-4f75-8329-c07b343ee4b6",
   "metadata": {},
   "source": [
    "#### Flow limit\n",
    "$$\n",
    "f_{o,d} \\leq \\sum_c p_c x_{o,d}^c \\quad \\quad \\forall o \\in T, d \\in U\n",
    "$$\n",
    "\n",
    "where:\n",
    "- $p_c$ is the maximum allowed power in MW on a given cable\n",
    "- $U$ is the set of all units"
   ]
  },
  {
   "cell_type": "code",
   "execution_count": 22,
   "id": "f769e534-af54-4d3d-8c95-acf8fb91229f",
   "metadata": {},
   "outputs": [],
   "source": [
    "for link in links:\n",
    "    model.add_linear_constraint(\n",
    "        f[link]\n",
    "        - sum(c.cable_type.max_mw_on_cable * x[c] for c in connections if c.link == link),\n",
    "        poi.Leq,\n",
    "        0\n",
    "    )"
   ]
  },
  {
   "cell_type": "markdown",
   "id": "60ee447c-f462-4ece-ab05-0ebf9d678c42",
   "metadata": {},
   "source": [
    "#### Only one outgoing connection\n",
    "\n",
    "$$\n",
    "\\sum_{d} y_{o,d} = 1 \\quad \\quad \\forall o \\in T\n",
    "$$\n",
    "\n",
    "where:\n",
    "- $y_{o,d} \\in \\{0,1\\}$ indicates whether a link has been built between $o$ and $d$, irrespective of cable type"
   ]
  },
  {
   "cell_type": "code",
   "execution_count": 19,
   "id": "f89a0924-96ff-40bc-81dc-59d92bf666b8",
   "metadata": {},
   "outputs": [],
   "source": [
    "y = {link: model.add_variable(domain=VariableDomain.Binary, name=f\"y_{link}\") for link in links}\n",
    "for u in turbines:\n",
    "    model.add_linear_constraint(\n",
    "        sum(y[link] for link in links if link.origin == u),\n",
    "        poi.Eq,\n",
    "        1)"
   ]
  },
  {
   "cell_type": "markdown",
   "id": "019c2f42-fd79-4dfb-bfa7-68baa3c24162",
   "metadata": {},
   "source": [
    "#### Connect $x$ and $y$\n",
    "\n",
    "$$\n",
    "y_{o,d} = \\sum_c x_{o,d}^c \\quad \\quad \\forall o \\in T, d \\in U\n",
    "$$"
   ]
  },
  {
   "cell_type": "code",
   "execution_count": 20,
   "id": "f9712293-65d0-413a-bfac-ce2ca912811e",
   "metadata": {},
   "outputs": [],
   "source": [
    "for link in links:\n",
    "    model.add_linear_constraint(\n",
    "        sum(x[c] for c in connections if c.link == link) - y[link],\n",
    "        poi.Eq,\n",
    "        0)"
   ]
  },
  {
   "cell_type": "markdown",
   "id": "902188f8-494b-4b66-be02-6f874ac11226",
   "metadata": {},
   "source": [
    "#### Max number of cables\n",
    "$$\n",
    "z_c \\leq N\n",
    "$$\n",
    "\n",
    "where:\n",
    "- $z_c \\in \\{0,1\\}$ is a binary variable indicating whether cable type $c$ is built\n",
    "- $N$ is the maximum number of cables"
   ]
  },
  {
   "cell_type": "code",
   "execution_count": 23,
   "id": "34359548-fb96-47d5-912b-0456fa914fb5",
   "metadata": {},
   "outputs": [],
   "source": [
    "z = {c: model.add_variable(domain=VariableDomain.Binary, name=f\"z_{c}\") for c in cable_types}\n",
    "max_cables = 3\n",
    "model.add_linear_constraint(sum(z.values()) <= max_cables)"
   ]
  },
  {
   "cell_type": "markdown",
   "id": "c201c3e1-148c-437c-847c-a34701cb5a44",
   "metadata": {},
   "source": [
    "#### Linking $z$ and $x$\n",
    "$$\n",
    "x_{o,d}^c \\leq z_c \\quad \\quad \\forall c \\in C, \\forall o \\in T, \\forall d \\in U\n",
    "$$\n",
    "\n",
    "where:\n",
    "- $C$ is the set of all cable types"
   ]
  },
  {
   "cell_type": "code",
   "execution_count": 26,
   "id": "da541ee0-d409-44db-af10-2b6e84c8de3b",
   "metadata": {},
   "outputs": [],
   "source": [
    "for cable_type in cable_types:\n",
    "    for c in [c for c in connections if c.cable_type == cable_type]:\n",
    "        model.add_linear_constraint(\n",
    "            x[c] - z[cable_type],\n",
    "            poi.Leq,\n",
    "            0\n",
    "        )"
   ]
  },
  {
   "cell_type": "markdown",
   "id": "ab0687c9-52da-4929-9977-45bd24d02351",
   "metadata": {},
   "source": [
    "Are we done???? Nope... Now comes the worst constraint of them all: the cables are **not** allowed to cross:\n",
    "\n",
    "#### No-crossing constraint\n",
    "$$\n",
    "y_{o,d} + y_{o',d'} \\leq 1 \\quad \\quad \\forall ((o,d),(o',d')) \\in Q\n",
    "$$\n",
    "\n",
    "where:\n",
    "- $Q$ is the set of all link combinations which do cross"
   ]
  },
  {
   "cell_type": "code",
   "execution_count": null,
   "id": "067a7ee3-bc5d-40c7-99f1-dd079a8c3736",
   "metadata": {},
   "outputs": [],
   "source": []
  },
  {
   "cell_type": "markdown",
   "id": "b6e4a2f4-a3b6-4e70-9a32-3de09e7ab7c1",
   "metadata": {},
   "source": [
    "You'd wanna test that, no???"
   ]
  },
  {
   "cell_type": "code",
   "execution_count": null,
   "id": "e6eb0527-b037-436d-a249-874d2a204b4b",
   "metadata": {},
   "outputs": [],
   "source": []
  }
 ],
 "metadata": {
  "kernelspec": {
   "display_name": "Python 3 (ipykernel)",
   "language": "python",
   "name": "python3"
  },
  "language_info": {
   "codemirror_mode": {
    "name": "ipython",
    "version": 3
   },
   "file_extension": ".py",
   "mimetype": "text/x-python",
   "name": "python",
   "nbconvert_exporter": "python",
   "pygments_lexer": "ipython3",
   "version": "3.13.1"
  }
 },
 "nbformat": 4,
 "nbformat_minor": 5
}
